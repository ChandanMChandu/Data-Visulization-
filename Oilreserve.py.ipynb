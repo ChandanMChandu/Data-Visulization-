{
 "cells": [
  {
   "cell_type": "code",
   "execution_count": 21,
   "metadata": {},
   "outputs": [
    {
     "data": {
      "text/html": [
       "<div>\n",
       "<style>\n",
       "    .dataframe thead tr:only-child th {\n",
       "        text-align: right;\n",
       "    }\n",
       "\n",
       "    .dataframe thead th {\n",
       "        text-align: left;\n",
       "    }\n",
       "\n",
       "    .dataframe tbody tr th {\n",
       "        vertical-align: top;\n",
       "    }\n",
       "</style>\n",
       "<table border=\"1\" class=\"dataframe\">\n",
       "  <thead>\n",
       "    <tr style=\"text-align: right;\">\n",
       "      <th></th>\n",
       "      <th>Region</th>\n",
       "      <th>Country/ Region</th>\n",
       "      <th>2010</th>\n",
       "      <th>2011</th>\n",
       "      <th>2012</th>\n",
       "      <th>2013</th>\n",
       "      <th>2014</th>\n",
       "      <th>2015</th>\n",
       "      <th>2016</th>\n",
       "      <th>tot_14_16</th>\n",
       "    </tr>\n",
       "  </thead>\n",
       "  <tbody>\n",
       "    <tr>\n",
       "      <th>0</th>\n",
       "      <td>North America</td>\n",
       "      <td>US</td>\n",
       "      <td>34.990</td>\n",
       "      <td>39.775</td>\n",
       "      <td>44.180</td>\n",
       "      <td>48.463</td>\n",
       "      <td>54.962</td>\n",
       "      <td>47.987</td>\n",
       "      <td>47.987</td>\n",
       "      <td>150.936</td>\n",
       "    </tr>\n",
       "    <tr>\n",
       "      <th>1</th>\n",
       "      <td>North America</td>\n",
       "      <td>Canada</td>\n",
       "      <td>174.848</td>\n",
       "      <td>174.177</td>\n",
       "      <td>173.716</td>\n",
       "      <td>173.038</td>\n",
       "      <td>172.156</td>\n",
       "      <td>171.512</td>\n",
       "      <td>171.512</td>\n",
       "      <td>515.180</td>\n",
       "    </tr>\n",
       "    <tr>\n",
       "      <th>2</th>\n",
       "      <td>North America</td>\n",
       "      <td>Mexico</td>\n",
       "      <td>11.691</td>\n",
       "      <td>11.394</td>\n",
       "      <td>11.424</td>\n",
       "      <td>11.079</td>\n",
       "      <td>10.816</td>\n",
       "      <td>7.977</td>\n",
       "      <td>7.977</td>\n",
       "      <td>26.770</td>\n",
       "    </tr>\n",
       "    <tr>\n",
       "      <th>3</th>\n",
       "      <td>S. &amp; Cent. America</td>\n",
       "      <td>Argentina</td>\n",
       "      <td>2.524</td>\n",
       "      <td>2.525</td>\n",
       "      <td>2.354</td>\n",
       "      <td>2.330</td>\n",
       "      <td>2.380</td>\n",
       "      <td>2.395</td>\n",
       "      <td>2.395</td>\n",
       "      <td>7.170</td>\n",
       "    </tr>\n",
       "    <tr>\n",
       "      <th>4</th>\n",
       "      <td>S. &amp; Cent. America</td>\n",
       "      <td>Brazil</td>\n",
       "      <td>14.246</td>\n",
       "      <td>15.050</td>\n",
       "      <td>15.314</td>\n",
       "      <td>15.593</td>\n",
       "      <td>16.184</td>\n",
       "      <td>13.000</td>\n",
       "      <td>12.634</td>\n",
       "      <td>41.818</td>\n",
       "    </tr>\n",
       "    <tr>\n",
       "      <th>5</th>\n",
       "      <td>S. &amp; Cent. America</td>\n",
       "      <td>Colombia</td>\n",
       "      <td>1.900</td>\n",
       "      <td>1.988</td>\n",
       "      <td>2.200</td>\n",
       "      <td>2.377</td>\n",
       "      <td>2.445</td>\n",
       "      <td>2.308</td>\n",
       "      <td>2.002</td>\n",
       "      <td>6.755</td>\n",
       "    </tr>\n",
       "    <tr>\n",
       "      <th>6</th>\n",
       "      <td>S. &amp; Cent. America</td>\n",
       "      <td>Ecuador</td>\n",
       "      <td>6.158</td>\n",
       "      <td>7.210</td>\n",
       "      <td>8.383</td>\n",
       "      <td>8.191</td>\n",
       "      <td>8.000</td>\n",
       "      <td>8.000</td>\n",
       "      <td>8.000</td>\n",
       "      <td>24.000</td>\n",
       "    </tr>\n",
       "    <tr>\n",
       "      <th>7</th>\n",
       "      <td>S. &amp; Cent. America</td>\n",
       "      <td>Peru</td>\n",
       "      <td>1.240</td>\n",
       "      <td>1.206</td>\n",
       "      <td>1.423</td>\n",
       "      <td>1.617</td>\n",
       "      <td>1.410</td>\n",
       "      <td>1.187</td>\n",
       "      <td>1.187</td>\n",
       "      <td>3.784</td>\n",
       "    </tr>\n",
       "    <tr>\n",
       "      <th>8</th>\n",
       "      <td>S. &amp; Cent. America</td>\n",
       "      <td>Trinidad &amp; Tobago</td>\n",
       "      <td>0.830</td>\n",
       "      <td>0.830</td>\n",
       "      <td>0.830</td>\n",
       "      <td>0.830</td>\n",
       "      <td>0.830</td>\n",
       "      <td>0.728</td>\n",
       "      <td>0.243</td>\n",
       "      <td>1.801</td>\n",
       "    </tr>\n",
       "    <tr>\n",
       "      <th>9</th>\n",
       "      <td>S. &amp; Cent. America</td>\n",
       "      <td>Venezuela</td>\n",
       "      <td>296.501</td>\n",
       "      <td>297.571</td>\n",
       "      <td>297.735</td>\n",
       "      <td>298.350</td>\n",
       "      <td>299.953</td>\n",
       "      <td>300.878</td>\n",
       "      <td>300.978</td>\n",
       "      <td>901.809</td>\n",
       "    </tr>\n",
       "  </tbody>\n",
       "</table>\n",
       "</div>"
      ],
      "text/plain": [
       "               Region    Country/ Region     2010     2011     2012     2013  \\\n",
       "0       North America                 US   34.990   39.775   44.180   48.463   \n",
       "1       North America             Canada  174.848  174.177  173.716  173.038   \n",
       "2       North America             Mexico   11.691   11.394   11.424   11.079   \n",
       "3  S. & Cent. America          Argentina    2.524    2.525    2.354    2.330   \n",
       "4  S. & Cent. America             Brazil   14.246   15.050   15.314   15.593   \n",
       "5  S. & Cent. America           Colombia    1.900    1.988    2.200    2.377   \n",
       "6  S. & Cent. America            Ecuador    6.158    7.210    8.383    8.191   \n",
       "7  S. & Cent. America               Peru    1.240    1.206    1.423    1.617   \n",
       "8  S. & Cent. America  Trinidad & Tobago    0.830    0.830    0.830    0.830   \n",
       "9  S. & Cent. America          Venezuela  296.501  297.571  297.735  298.350   \n",
       "\n",
       "      2014     2015     2016  tot_14_16  \n",
       "0   54.962   47.987   47.987    150.936  \n",
       "1  172.156  171.512  171.512    515.180  \n",
       "2   10.816    7.977    7.977     26.770  \n",
       "3    2.380    2.395    2.395      7.170  \n",
       "4   16.184   13.000   12.634     41.818  \n",
       "5    2.445    2.308    2.002      6.755  \n",
       "6    8.000    8.000    8.000     24.000  \n",
       "7    1.410    1.187    1.187      3.784  \n",
       "8    0.830    0.728    0.243      1.801  \n",
       "9  299.953  300.878  300.978    901.809  "
      ]
     },
     "execution_count": 21,
     "metadata": {},
     "output_type": "execute_result"
    }
   ],
   "source": [
    "import pandas as pd \n",
    "from pandas import DataFrame\n",
    "import numpy as np\n",
    "\n",
    "df = pd.read_csv('oil_reserves.csv')\n",
    "df=df.applymap(lambda x: x.strip() if isinstance(x,str) else x)\n",
    "df=df.fillna(0)\n",
    "add=df['2014']+df['2015']+df['2016']\n",
    "df['tot_14_16']=add\n",
    "\n",
    "df.head(10)"
   ]
  },
  {
   "cell_type": "code",
   "execution_count": 22,
   "metadata": {},
   "outputs": [
    {
     "name": "stdout",
     "output_type": "stream",
     "text": [
      "9    S. & Cent. America\n",
      "Name: Region, dtype: object\n"
     ]
    }
   ],
   "source": [
    "#FIRST QUESTION \n",
    "\n",
    "print(df[df['tot_14_16']==df['tot_14_16'].max()]['Region'])"
   ]
  },
  {
   "cell_type": "code",
   "execution_count": 52,
   "metadata": {
    "collapsed": true
   },
   "outputs": [],
   "source": [
    "year1=['2014','2015','2016']\n",
    "df['tot1']=df.loc[:,year1].sum(axis=1)"
   ]
  },
  {
   "cell_type": "code",
   "execution_count": 53,
   "metadata": {},
   "outputs": [
    {
     "data": {
      "text/plain": [
       "7"
      ]
     },
     "execution_count": 53,
     "metadata": {},
     "output_type": "execute_result"
    }
   ],
   "source": [
    "df['Region'][df['tot1']==np.max(df['tot1'])]\n",
    "year2=['2010','2011','2012','2013','2014','2015','2016']\n",
    "k=[]\n",
    "y1=df[year2][df['Country/ Region']=='Angola'].values\n",
    "y2=df.loc[48,year2]\n",
    "k=y2.values\n",
    "len(k)"
   ]
  },
  {
   "cell_type": "code",
   "execution_count": 54,
   "metadata": {},
   "outputs": [
    {
     "data": {
      "image/png": "[encoded data removed]",
      "text/plain": [
       "<matplotlib.figure.Figure at 0x7fdff7400208>"
      ]
     },
     "metadata": {},
     "output_type": "display_data"
    }
   ],
   "source": [
    "#second question \n",
    "\n",
    "#With suitable visualization show the oil reserves of India from 2010 to 2016.\n",
    "year2=['2010','2011','2012','2013','2014','2015','2016']\n",
    "y1=list(df[year2][df['Country/ Region']=='India'].values)\n",
    "xlabel=list(df.columns[2:])\n",
    "x=[1,2,3,4,5,6,7]\n",
    "#x=x.reshape(1,7)\n",
    "plt.plot(x, k, linestyle=\"dashdot\", marker=\"o\", color=\"blue\", label = 'Oil Reserve of India')\n",
    "#configure  X axes\n",
    "plt.xlim(0,8)\n",
    "plt.xticks(x,year2)\n",
    "\n",
    "#configure  Y axes\n",
    "plt.ylim(3,6)\n",
    "#plt.yticks(y2.values)\n",
    "\n",
    "#labels\n",
    "plt.xlabel(\"year\")\n",
    "plt.ylabel(\"oil reserve\")\n",
    "\n",
    "# add legend\n",
    "plt.legend()\n",
    "\n",
    "#title\n",
    "plt.title('Oil Reserve of India')\n",
    "plt.show()\n"
   ]
  },
  {
   "cell_type": "code",
   "execution_count": 56,
   "metadata": {},
   "outputs": [
    {
     "ename": "AttributeError",
     "evalue": "'DataFrame' object has no attribute 'column'",
     "output_type": "error",
     "traceback": [
      "\u001b[0;31m---------------------------------------------------------------------------\u001b[0m",
      "\u001b[0;31mAttributeError\u001b[0m                            Traceback (most recent call last)",
      "\u001b[0;32m<ipython-input-56-6c1e319d0e5a>\u001b[0m in \u001b[0;36m<module>\u001b[0;34m()\u001b[0m\n\u001b[0;32m----> 1\u001b[0;31m \u001b[0mdf\u001b[0m\u001b[0;34m.\u001b[0m\u001b[0mcolumn\u001b[0m\u001b[0;34m(\u001b[0m\u001b[0;34m)\u001b[0m\u001b[0;34m\u001b[0m\u001b[0m\n\u001b[0m",
      "\u001b[0;32m~/anaconda3/lib/python3.6/site-packages/pandas/core/generic.py\u001b[0m in \u001b[0;36m__getattr__\u001b[0;34m(self, name)\u001b[0m\n\u001b[1;32m   3079\u001b[0m             \u001b[0;32mif\u001b[0m \u001b[0mname\u001b[0m \u001b[0;32min\u001b[0m \u001b[0mself\u001b[0m\u001b[0;34m.\u001b[0m\u001b[0m_info_axis\u001b[0m\u001b[0;34m:\u001b[0m\u001b[0;34m\u001b[0m\u001b[0m\n\u001b[1;32m   3080\u001b[0m                 \u001b[0;32mreturn\u001b[0m \u001b[0mself\u001b[0m\u001b[0;34m[\u001b[0m\u001b[0mname\u001b[0m\u001b[0;34m]\u001b[0m\u001b[0;34m\u001b[0m\u001b[0m\n\u001b[0;32m-> 3081\u001b[0;31m             \u001b[0;32mreturn\u001b[0m \u001b[0mobject\u001b[0m\u001b[0;34m.\u001b[0m\u001b[0m__getattribute__\u001b[0m\u001b[0;34m(\u001b[0m\u001b[0mself\u001b[0m\u001b[0;34m,\u001b[0m \u001b[0mname\u001b[0m\u001b[0;34m)\u001b[0m\u001b[0;34m\u001b[0m\u001b[0m\n\u001b[0m\u001b[1;32m   3082\u001b[0m \u001b[0;34m\u001b[0m\u001b[0m\n\u001b[1;32m   3083\u001b[0m     \u001b[0;32mdef\u001b[0m \u001b[0m__setattr__\u001b[0m\u001b[0;34m(\u001b[0m\u001b[0mself\u001b[0m\u001b[0;34m,\u001b[0m \u001b[0mname\u001b[0m\u001b[0;34m,\u001b[0m \u001b[0mvalue\u001b[0m\u001b[0;34m)\u001b[0m\u001b[0;34m:\u001b[0m\u001b[0;34m\u001b[0m\u001b[0m\n",
      "\u001b[0;31mAttributeError\u001b[0m: 'DataFrame' object has no attribute 'column'"
     ]
    }
   ],
   "source": [
    "df.column()"
   ]
  },
  {
   "cell_type": "code",
   "execution_count": 38,
   "metadata": {
    "collapsed": true
   },
   "outputs": [],
   "source": [
    "#3 question \n",
    "\n",
    "#List the countries having maximum oil reserves in each region.\n",
    "\n",
    "year2=['2010','2011','2012','2013','2014','2015','2016']\n",
    "df['tot']=df.loc[:,year1].sum(axis=1)"
   ]
  },
  {
   "cell_type": "code",
   "execution_count": 39,
   "metadata": {},
   "outputs": [
    {
     "name": "stdout",
     "output_type": "stream",
     "text": [
      "39    Libya\n",
      "Name: Country/ Region, dtype: object\n",
      "47    China\n",
      "Name: Country/ Region, dtype: object\n",
      "17    Russian Federation\n",
      "Name: Country/ Region, dtype: object\n",
      "27    Saudi Arabia\n",
      "Name: Country/ Region, dtype: object\n",
      "1    Canada\n",
      "Name: Country/ Region, dtype: object\n",
      "9    Venezuela\n",
      "Name: Country/ Region, dtype: object\n"
     ]
    }
   ],
   "source": [
    "k=df.iloc[:,0]\n",
    "k=np.unique(k)\n",
    "for i in k:\n",
    "    print(df[df['Region']==i].sort_values('tot',ascending=False)['Country/ Region'].head(1))\n"
   ]
  },
  {
   "cell_type": "code",
   "execution_count": 46,
   "metadata": {},
   "outputs": [
    {
     "data": {
      "text/plain": [
       "[385.38599999999997,\n",
       " 146.481,\n",
       " 471.01300000000003,\n",
       " 2420.7780000000002,\n",
       " 692.886,\n",
       " 988.722]"
      ]
     },
     "execution_count": 46,
     "metadata": {},
     "output_type": "execute_result"
    }
   ],
   "source": [
    "#4 question \n",
    "\n",
    "#Draw suitable visualization which shows the share of oil reserves by each region.\n",
    "\n",
    "k=df.iloc[:,0]\n",
    "k=np.unique(k)\n",
    "m=[]\n",
    "for i in k:\n",
    "    m.append(df[df['Region']==i]['tot'].sum())\n",
    "m"
   ]
  },
  {
   "cell_type": "code",
   "execution_count": 47,
   "metadata": {},
   "outputs": [
    {
     "data": {
      "image/png": "[encoded data removed]",
      "text/plain": [
       "<matplotlib.figure.Figure at 0x7fdff7463278>"
      ]
     },
     "metadata": {},
     "output_type": "display_data"
    }
   ],
   "source": [
    "name=k\n",
    "x_pos = [1,2,3,4,5,6]\n",
    "performance = m\n",
    "\n",
    "plt.bar(x_pos, performance)\n",
    "plt.xticks(x_pos, name)\n",
    "plt.xticks(rotation=70)\n",
    "plt.xlabel('Region')\n",
    "plt.ylabel('Oil share')\n",
    "plt.title('Region and oil share')\n",
    "plt.tight_layout()\n",
    "\n",
    "plt.show()"
   ]
  },
  {
   "cell_type": "code",
   "execution_count": null,
   "metadata": {
    "collapsed": true
   },
   "outputs": [],
   "source": []
  }
 ],
 "metadata": {
  "kernelspec": {
   "display_name": "Python 3",
   "language": "python",
   "name": "python3"
  },
  "language_info": {
   "codemirror_mode": {
    "name": "ipython",
    "version": 3
   },
   "file_extension": ".py",
   "mimetype": "text/x-python",
   "name": "python",
   "nbconvert_exporter": "python",
   "pygments_lexer": "ipython3",
   "version": "3.6.3"
  }
 },
 "nbformat": 4,
 "nbformat_minor": 2
}
